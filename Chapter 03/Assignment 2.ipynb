{
 "cells": [
  {
   "cell_type": "markdown",
   "id": "3305ff4a",
   "metadata": {},
   "source": [
    "# Chapter-3 Conditions, Control Flows and Iterations"
   ]
  },
  {
   "cell_type": "code",
   "execution_count": 1,
   "id": "b18a7c84",
   "metadata": {},
   "outputs": [
    {
     "name": "stderr",
     "output_type": "stream",
     "text": [
      "\u001b[32m\u001b[1m  Activating\u001b[22m\u001b[39m environment at `C:\\Users\\Emmanuel Lawrence\\Juila Classes\\Project.toml`\n"
     ]
    }
   ],
   "source": [
    "using Pkg\n",
    "pkg\"activate .\"\n",
    "pkg\"instantiate\""
   ]
  },
  {
   "cell_type": "markdown",
   "id": "496048b6",
   "metadata": {},
   "source": [
    "# Compound Statements\n",
    "## Begin ... End"
   ]
  },
  {
   "cell_type": "code",
   "execution_count": 2,
   "id": "0ed27df6",
   "metadata": {},
   "outputs": [
    {
     "data": {
      "text/plain": [
       "3"
      ]
     },
     "execution_count": 2,
     "metadata": {},
     "output_type": "execute_result"
    }
   ],
   "source": [
    "z = begin\n",
    "    x = 1\n",
    "    y = 2\n",
    "    x + y\n",
    "end"
   ]
  },
  {
   "cell_type": "code",
   "execution_count": 3,
   "id": "d551e2ff",
   "metadata": {},
   "outputs": [
    {
     "data": {
      "text/plain": [
       "3"
      ]
     },
     "execution_count": 3,
     "metadata": {},
     "output_type": "execute_result"
    }
   ],
   "source": [
    "z = (x = 1; y = 2; x+y)"
   ]
  },
  {
   "cell_type": "code",
   "execution_count": 4,
   "id": "e54455c8",
   "metadata": {},
   "outputs": [
    {
     "data": {
      "text/plain": [
       "3"
      ]
     },
     "execution_count": 4,
     "metadata": {},
     "output_type": "execute_result"
    }
   ],
   "source": [
    "z =(x = 1;\n",
    "    y = 2;\n",
    "    x + y)"
   ]
  },
  {
   "cell_type": "code",
   "execution_count": 5,
   "id": "c457d829",
   "metadata": {},
   "outputs": [
    {
     "data": {
      "text/plain": [
       "3"
      ]
     },
     "execution_count": 5,
     "metadata": {},
     "output_type": "execute_result"
    }
   ],
   "source": [
    "z = begin x=1; y=2; x+y end"
   ]
  },
  {
   "cell_type": "markdown",
   "id": "243b5571",
   "metadata": {},
   "source": [
    "# Conditional Execution\n",
    "## if... Else"
   ]
  },
  {
   "cell_type": "code",
   "execution_count": 9,
   "id": "31587713",
   "metadata": {},
   "outputs": [
    {
     "ename": "LoadError",
     "evalue": "TypeError: non-boolean (Int64) used in boolean context",
     "output_type": "error",
     "traceback": [
      "TypeError: non-boolean (Int64) used in boolean context",
      "",
      "Stacktrace:",
      " [1] top-level scope",
      "   @ In[9]:1",
      " [2] eval",
      "   @ .\\boot.jl:360 [inlined]",
      " [3] include_string(mapexpr::typeof(REPL.softscope), mod::Module, code::String, filename::String)",
      "   @ Base .\\loading.jl:1116"
     ]
    }
   ],
   "source": [
    "if 1\n",
    "    println(\"I am here\")\n",
    "end"
   ]
  },
  {
   "cell_type": "code",
   "execution_count": 10,
   "id": "aa8cbc98",
   "metadata": {},
   "outputs": [
    {
     "name": "stdout",
     "output_type": "stream",
     "text": [
      "I am here\n"
     ]
    }
   ],
   "source": [
    "if Bool(1)\n",
    "    println(\"I am here\")\n",
    "end"
   ]
  },
  {
   "cell_type": "code",
   "execution_count": 11,
   "id": "440f36e2",
   "metadata": {},
   "outputs": [
    {
     "data": {
      "text/plain": [
       "\"Less\""
      ]
     },
     "execution_count": 11,
     "metadata": {},
     "output_type": "execute_result"
    }
   ],
   "source": [
    "i = 1\n",
    "str = if i > 1\n",
    "    \"Greater\"\n",
    "else\n",
    "    \"Less\"\n",
    "end"
   ]
  },
  {
   "cell_type": "code",
   "execution_count": 12,
   "id": "fd54d72c",
   "metadata": {},
   "outputs": [
    {
     "data": {
      "text/plain": [
       "\"Less\""
      ]
     },
     "execution_count": 12,
     "metadata": {},
     "output_type": "execute_result"
    }
   ],
   "source": [
    "str = i > 1 ? \"Greater\" : \"Less\""
   ]
  },
  {
   "cell_type": "code",
   "execution_count": 13,
   "id": "cfdf3715",
   "metadata": {},
   "outputs": [
    {
     "ename": "LoadError",
     "evalue": "syntax: space required before \"?\" operator",
     "output_type": "error",
     "traceback": [
      "syntax: space required before \"?\" operator",
      "",
      "Stacktrace:",
      " [1] top-level scope",
      "   @ In[13]:1",
      " [2] eval",
      "   @ .\\boot.jl:360 [inlined]",
      " [3] include_string(mapexpr::typeof(REPL.softscope), mod::Module, code::String, filename::String)",
      "   @ Base .\\loading.jl:1116"
     ]
    }
   ],
   "source": [
    "str = i > 1? \"Greater\" : \"Less\""
   ]
  },
  {
   "cell_type": "code",
   "execution_count": 14,
   "id": "f953c826",
   "metadata": {},
   "outputs": [
    {
     "ename": "LoadError",
     "evalue": "syntax: space required before colon in \"?\" expression",
     "output_type": "error",
     "traceback": [
      "syntax: space required before colon in \"?\" expression",
      "",
      "Stacktrace:",
      " [1] top-level scope",
      "   @ In[14]:1",
      " [2] eval",
      "   @ .\\boot.jl:360 [inlined]",
      " [3] include_string(mapexpr::typeof(REPL.softscope), mod::Module, code::String, filename::String)",
      "   @ Base .\\loading.jl:1116"
     ]
    }
   ],
   "source": [
    "str = i > 1 ? \"Greater\": \"Less\""
   ]
  },
  {
   "cell_type": "code",
   "execution_count": 15,
   "id": "caa9e1a8",
   "metadata": {},
   "outputs": [
    {
     "data": {
      "text/plain": [
       "\"three\""
      ]
     },
     "execution_count": 15,
     "metadata": {},
     "output_type": "execute_result"
    }
   ],
   "source": [
    "val = 3\n",
    "if val == 1\n",
    "    \"one\"\n",
    "elseif val == 2\n",
    "    \"two\"\n",
    "elseif val == 3\n",
    "    \"three\"\n",
    "elseif val == 4\n",
    "    \"four\"\n",
    "else\n",
    "    \"unknown\"\n",
    "end"
   ]
  },
  {
   "cell_type": "markdown",
   "id": "7c03cc0f",
   "metadata": {},
   "source": [
    "# else if vs. elseif"
   ]
  },
  {
   "cell_type": "code",
   "execution_count": 16,
   "id": "b3fe6700",
   "metadata": {},
   "outputs": [
    {
     "ename": "LoadError",
     "evalue": "syntax: use \"elseif\" instead of \"else if\"",
     "output_type": "error",
     "traceback": [
      "syntax: use \"elseif\" instead of \"else if\"",
      "",
      "Stacktrace:",
      " [1] top-level scope",
      "   @ In[16]:9",
      " [2] eval",
      "   @ .\\boot.jl:360 [inlined]",
      " [3] include_string(mapexpr::typeof(REPL.softscope), mod::Module, code::String, filename::String)",
      "   @ Base .\\loading.jl:1116"
     ]
    }
   ],
   "source": [
    "if val == 1\n",
    "    \"one\"\n",
    "elseif val == 2\n",
    "    \"two\"\n",
    "elseif val == 3\n",
    "    \"three\"\n",
    "elseif val == 4\n",
    "    \"four\"\n",
    "else if val >= 5"
   ]
  },
  {
   "cell_type": "code",
   "execution_count": 17,
   "id": "55ea67c7",
   "metadata": {},
   "outputs": [
    {
     "data": {
      "text/plain": [
       "\"three\""
      ]
     },
     "execution_count": 17,
     "metadata": {},
     "output_type": "execute_result"
    }
   ],
   "source": [
    "if val == 1\n",
    "    \"one\"\n",
    "elseif val == 2\n",
    "    \"two\"\n",
    "elseif val == 3\n",
    "    \"three\"\n",
    "elseif val == 4\n",
    "    \"four\"\n",
    "else\n",
    "    if val >= 5\n",
    "        \"above five\"\n",
    "    else\n",
    "        \"below five\"\n",
    "    end\n",
    "end"
   ]
  },
  {
   "cell_type": "markdown",
   "id": "ca768679",
   "metadata": {},
   "source": [
    "# Unstructured Branching"
   ]
  },
  {
   "cell_type": "code",
   "execution_count": 18,
   "id": "68106609",
   "metadata": {},
   "outputs": [
    {
     "data": {
      "text/plain": [
       "55"
      ]
     },
     "execution_count": 18,
     "metadata": {},
     "output_type": "execute_result"
    }
   ],
   "source": [
    "begin\n",
    "    s = 0\n",
    "    n = 10\n",
    "@label loop\n",
    "    s = s + n\n",
    "    n = n - 1\n",
    "    if n > 0\n",
    "        @goto loop\n",
    "    end\n",
    "    s\n",
    "end"
   ]
  },
  {
   "cell_type": "code",
   "execution_count": 19,
   "id": "552bf406",
   "metadata": {},
   "outputs": [
    {
     "data": {
      "text/plain": [
       "55"
      ]
     },
     "execution_count": 19,
     "metadata": {},
     "output_type": "execute_result"
    }
   ],
   "source": [
    "s = 0\n",
    "for i = 1:10\n",
    "    s = s + i\n",
    "end\n",
    "s"
   ]
  },
  {
   "cell_type": "markdown",
   "id": "a8b41a92",
   "metadata": {},
   "source": [
    "# Iterative Execution\n",
    "## for"
   ]
  },
  {
   "cell_type": "code",
   "execution_count": 20,
   "id": "0c1b68d0",
   "metadata": {},
   "outputs": [
    {
     "data": {
      "text/plain": [
       "55"
      ]
     },
     "execution_count": 20,
     "metadata": {},
     "output_type": "execute_result"
    }
   ],
   "source": [
    "s = 0\n",
    "for i = 1:10\n",
    "    s = s + i\n",
    "end\n",
    "s"
   ]
  },
  {
   "cell_type": "code",
   "execution_count": 21,
   "id": "828a2812",
   "metadata": {},
   "outputs": [
    {
     "name": "stdout",
     "output_type": "stream",
     "text": [
      "1\n",
      "3\n",
      "5\n",
      "7\n",
      "9\n"
     ]
    },
    {
     "data": {
      "text/plain": [
       "25"
      ]
     },
     "execution_count": 21,
     "metadata": {},
     "output_type": "execute_result"
    }
   ],
   "source": [
    "s = 0;\n",
    "for i = 1:2:10\n",
    "    println(i)\n",
    "    s = s + i\n",
    "end\n",
    "s"
   ]
  },
  {
   "cell_type": "markdown",
   "id": "bd8a3c0e",
   "metadata": {},
   "source": [
    "## Contiue and Break "
   ]
  },
  {
   "cell_type": "code",
   "execution_count": 22,
   "id": "230764c2",
   "metadata": {},
   "outputs": [
    {
     "name": "stdout",
     "output_type": "stream",
     "text": [
      "1\n",
      "2\n",
      "4\n",
      "5\n",
      "7\n",
      "8\n",
      "10\n"
     ]
    },
    {
     "data": {
      "text/plain": [
       "37"
      ]
     },
     "execution_count": 22,
     "metadata": {},
     "output_type": "execute_result"
    }
   ],
   "source": [
    "s = 0;\n",
    "for i = 1:10\n",
    "    if i % 3 == 0\n",
    "        continue\n",
    "    end\n",
    "    println(i)\n",
    "    s = s + i\n",
    "end\n",
    "s"
   ]
  },
  {
   "cell_type": "code",
   "execution_count": 23,
   "id": "e9ecaea2",
   "metadata": {},
   "outputs": [
    {
     "name": "stdout",
     "output_type": "stream",
     "text": [
      "1\n",
      "2\n"
     ]
    },
    {
     "data": {
      "text/plain": [
       "3"
      ]
     },
     "execution_count": 23,
     "metadata": {},
     "output_type": "execute_result"
    }
   ],
   "source": [
    "s = 0;\n",
    "for i = 1:10\n",
    "    if i % 3 == 0\n",
    "        break\n",
    "    end\n",
    "    println(i)\n",
    "    s = s + i\n",
    "end\n",
    "s"
   ]
  },
  {
   "cell_type": "markdown",
   "id": "3e5bc041",
   "metadata": {},
   "source": [
    "## For... in"
   ]
  },
  {
   "cell_type": "code",
   "execution_count": 24,
   "id": "61a11bd2",
   "metadata": {},
   "outputs": [
    {
     "name": "stdout",
     "output_type": "stream",
     "text": [
      "5\n",
      "10\n",
      "15\n"
     ]
    }
   ],
   "source": [
    "for i in [5 10 15]\n",
    "    println(i)\n",
    "end"
   ]
  },
  {
   "cell_type": "markdown",
   "id": "7a0e51b6",
   "metadata": {},
   "source": [
    "## Multiple Range Objects"
   ]
  },
  {
   "cell_type": "code",
   "execution_count": 25,
   "id": "04089ee1",
   "metadata": {},
   "outputs": [
    {
     "name": "stdout",
     "output_type": "stream",
     "text": [
      "(1, 1)\n",
      "(1, 2)\n",
      "(2, 1)\n",
      "(2, 2)\n",
      "(3, 1)\n",
      "(3, 2)\n"
     ]
    }
   ],
   "source": [
    "for i=1:3, j=1:2\n",
    "    println((i, j))\n",
    "end"
   ]
  },
  {
   "cell_type": "code",
   "execution_count": 26,
   "id": "6c8e82cb",
   "metadata": {},
   "outputs": [
    {
     "name": "stdout",
     "output_type": "stream",
     "text": [
      "(1, 1)\n",
      "(2, 1)\n",
      "(2, 2)\n",
      "(3, 1)\n",
      "(3, 2)\n",
      "(3, 3)\n"
     ]
    }
   ],
   "source": [
    "for i=1:3, j=1:i\n",
    "    println((i, j))\n",
    "end"
   ]
  },
  {
   "cell_type": "code",
   "execution_count": 27,
   "id": "56e4af0b",
   "metadata": {},
   "outputs": [
    {
     "name": "stdout",
     "output_type": "stream",
     "text": [
      "(1, 1)\n"
     ]
    }
   ],
   "source": [
    "for i=1:3, j=1:2\n",
    "    println((i, j))\n",
    "    if i == j\n",
    "        break\n",
    "    end\n",
    "end"
   ]
  },
  {
   "cell_type": "code",
   "execution_count": 28,
   "id": "59d3d94b",
   "metadata": {},
   "outputs": [
    {
     "name": "stdout",
     "output_type": "stream",
     "text": [
      "(1, 1)\n",
      "(2, 1)\n",
      "(2, 2)\n",
      "(3, 1)\n",
      "(3, 2)\n"
     ]
    }
   ],
   "source": [
    "for i=1:3\n",
    "    for j=1:2\n",
    "        println((i, j))\n",
    "        if i == j\n",
    "            break\n",
    "        end\n",
    "    end\n",
    "end"
   ]
  },
  {
   "cell_type": "markdown",
   "id": "dcf916e3",
   "metadata": {},
   "source": [
    "## While "
   ]
  },
  {
   "cell_type": "code",
   "execution_count": 29,
   "id": "e02a9e5f",
   "metadata": {},
   "outputs": [
    {
     "data": {
      "text/plain": [
       "55"
      ]
     },
     "execution_count": 29,
     "metadata": {},
     "output_type": "execute_result"
    }
   ],
   "source": [
    "s, n = 0, 10;\n",
    "while n > 0\n",
    "    s = s + n\n",
    "    n = n - 1\n",
    "end\n",
    "s"
   ]
  },
  {
   "cell_type": "markdown",
   "id": "303c5623",
   "metadata": {},
   "source": [
    "## Missing do...while"
   ]
  },
  {
   "cell_type": "code",
   "execution_count": 32,
   "id": "a48abf4e",
   "metadata": {},
   "outputs": [
    {
     "name": "stdout",
     "output_type": "stream",
     "text": [
      "press q <enter> to end the loop\n"
     ]
    },
    {
     "ename": "LoadError",
     "evalue": "EOFError: read end of file",
     "output_type": "error",
     "traceback": [
      "EOFError: read end of file",
      "",
      "Stacktrace:",
      " [1] read(this::Base.PipeEndpoint, #unused#::Type{UInt8})",
      "   @ Base .\\stream.jl:925",
      " [2] read",
      "   @ .\\io.jl:365 [inlined]",
      " [3] read(io::IJulia.IJuliaStdio{Base.PipeEndpoint}, #unused#::Type{Char})",
      "   @ Base .\\io.jl:750",
      " [4] top-level scope",
      "   @ .\\In[32]:5",
      " [5] eval",
      "   @ .\\boot.jl:360 [inlined]",
      " [6] include_string(mapexpr::typeof(REPL.softscope), mod::Module, code::String, filename::String)",
      "   @ Base .\\loading.jl:1116"
     ]
    }
   ],
   "source": [
    "skip_eval, ch = true, Char(0)\n",
    "println(\"press q <enter> to end the loop\")\n",
    "while skip_eval || ch != 'q'\n",
    "    global skip_eval = false\n",
    "    global ch = read(stdin, Char) \n",
    "end"
   ]
  },
  {
   "cell_type": "markdown",
   "id": "dfedac34",
   "metadata": {},
   "source": [
    "# Exception Handling \n",
    "## try.....catch"
   ]
  },
  {
   "cell_type": "code",
   "execution_count": 33,
   "id": "5150e4ab",
   "metadata": {},
   "outputs": [
    {
     "name": "stdout",
     "output_type": "stream",
     "text": [
      "DomainError(-1.0, \"sqrt will only return a complex result if called with a complex argument. Try sqrt(Complex(x)).\")\n"
     ]
    }
   ],
   "source": [
    "try\n",
    "    sqrt(-1)\n",
    "catch e\n",
    "    println(e)\n",
    "end"
   ]
  },
  {
   "cell_type": "code",
   "execution_count": 34,
   "id": "cc6aed20",
   "metadata": {},
   "outputs": [
    {
     "ename": "LoadError",
     "evalue": "DomainError with -1.0:\nsqrt will only return a complex result if called with a complex argument. Try sqrt(Complex(x)).",
     "output_type": "error",
     "traceback": [
      "DomainError with -1.0:\nsqrt will only return a complex result if called with a complex argument. Try sqrt(Complex(x)).",
      "",
      "Stacktrace:",
      " [1] throw_complex_domainerror(f::Symbol, x::Float64)",
      "   @ Base.Math .\\math.jl:33",
      " [2] sqrt",
      "   @ .\\math.jl:582 [inlined]",
      " [3] sqrt(x::Int64)",
      "   @ Base.Math .\\math.jl:608",
      " [4] top-level scope",
      "   @ In[34]:1",
      " [5] eval",
      "   @ .\\boot.jl:360 [inlined]",
      " [6] include_string(mapexpr::typeof(REPL.softscope), mod::Module, code::String, filename::String)",
      "   @ Base .\\loading.jl:1116"
     ]
    }
   ],
   "source": [
    "sqrt(-1)"
   ]
  },
  {
   "cell_type": "markdown",
   "id": "45d123dc",
   "metadata": {},
   "source": [
    "# throw/rethrow"
   ]
  },
  {
   "cell_type": "code",
   "execution_count": 35,
   "id": "6a05aa57",
   "metadata": {},
   "outputs": [
    {
     "ename": "LoadError",
     "evalue": "DomainError with -1.0:\nsqrt will only return a complex result if called with a complex argument. Try sqrt(Complex(x)).",
     "output_type": "error",
     "traceback": [
      "DomainError with -1.0:\nsqrt will only return a complex result if called with a complex argument. Try sqrt(Complex(x)).",
      "",
      "Stacktrace:",
      " [1] throw_complex_domainerror(f::Symbol, x::Float64)",
      "   @ Base.Math .\\math.jl:33",
      " [2] sqrt",
      "   @ .\\math.jl:582 [inlined]",
      " [3] sqrt(x::Int64)",
      "   @ Base.Math .\\math.jl:608",
      " [4] top-level scope",
      "   @ In[35]:2",
      " [5] eval",
      "   @ .\\boot.jl:360 [inlined]",
      " [6] include_string(mapexpr::typeof(REPL.softscope), mod::Module, code::String, filename::String)",
      "   @ Base .\\loading.jl:1116"
     ]
    }
   ],
   "source": [
    "try \n",
    "    sqrt(-1)\n",
    "catch e\n",
    "    rethrow()\n",
    "end"
   ]
  },
  {
   "cell_type": "code",
   "execution_count": 36,
   "id": "9a2a35cb",
   "metadata": {},
   "outputs": [
    {
     "name": "stdout",
     "output_type": "stream",
     "text": [
      "Int64\n"
     ]
    }
   ],
   "source": [
    "try\n",
    "    throw(1)\n",
    "catch e\n",
    "    println(typeof(e))\n",
    "end"
   ]
  },
  {
   "cell_type": "code",
   "execution_count": 37,
   "id": "1436cf92",
   "metadata": {},
   "outputs": [
    {
     "ename": "LoadError",
     "evalue": "SystemError: opening file \"file\": No such file or directory",
     "output_type": "error",
     "traceback": [
      "SystemError: opening file \"file\": No such file or directory",
      "",
      "Stacktrace:",
      " [1] systemerror(p::String, errno::Int32; extrainfo::Nothing)",
      "   @ Base .\\error.jl:168",
      " [2] #systemerror#62",
      "   @ .\\error.jl:167 [inlined]",
      " [3] systemerror",
      "   @ .\\error.jl:167 [inlined]",
      " [4] open(fname::String; lock::Bool, read::Nothing, write::Nothing, create::Nothing, truncate::Nothing, append::Nothing)",
      "   @ Base .\\iostream.jl:293",
      " [5] open(fname::String)",
      "   @ Base .\\iostream.jl:282",
      " [6] top-level scope",
      "   @ In[37]:1",
      " [7] eval",
      "   @ .\\boot.jl:360 [inlined]",
      " [8] include_string(mapexpr::typeof(REPL.softscope), mod::Module, code::String, filename::String)",
      "   @ Base .\\loading.jl:1116"
     ]
    }
   ],
   "source": [
    "f = open(\"file\")\n",
    "try\n",
    "    b = read(f)\n",
    "finally\n",
    "    close(f)\n",
    "end"
   ]
  },
  {
   "cell_type": "markdown",
   "id": "0f36ac4a",
   "metadata": {},
   "source": [
    "# Information from Exceptions"
   ]
  },
  {
   "cell_type": "code",
   "execution_count": 39,
   "id": "f74be69c",
   "metadata": {},
   "outputs": [
    {
     "ename": "LoadError",
     "evalue": "DomainError with -1.0:\nsqrt will only return a complex result if called with a complex argument. Try sqrt(Complex(x)).",
     "output_type": "error",
     "traceback": [
      "DomainError with -1.0:\nsqrt will only return a complex result if called with a complex argument. Try sqrt(Complex(x)).",
      "",
      "Stacktrace:",
      " [1] throw_complex_domainerror(f::Symbol, x::Float64)",
      "   @ Base.Math .\\math.jl:33",
      " [2] sqrt",
      "   @ .\\math.jl:582 [inlined]",
      " [3] sqrt(x::Int64)",
      "   @ Base.Math .\\math.jl:608",
      " [4] top-level scope",
      "   @ In[39]:1",
      " [5] eval",
      "   @ .\\boot.jl:360 [inlined]",
      " [6] include_string(mapexpr::typeof(REPL.softscope), mod::Module, code::String, filename::String)",
      "   @ Base .\\loading.jl:1116"
     ]
    }
   ],
   "source": [
    "sqrt(-1)"
   ]
  },
  {
   "cell_type": "markdown",
   "id": "9ba7696b",
   "metadata": {},
   "source": [
    "# Stacktraces"
   ]
  },
  {
   "cell_type": "code",
   "execution_count": 40,
   "id": "8db20333",
   "metadata": {},
   "outputs": [
    {
     "data": {
      "text/plain": [
       "12-element Vector{Base.StackTraces.StackFrame}:\n",
       " throw_complex_domainerror(f::\u001b[0mSymbol, x::\u001b[0mFloat64) at math.jl:33\n",
       " sqrt at math.jl:582 [inlined]\n",
       " sqrt(x::\u001b[0mInt64) at math.jl:608\n",
       " top-level scope at In[40]:2\n",
       " eval at boot.jl:360 [inlined]\n",
       " include_string(mapexpr::\u001b[0mtypeof(REPL.softscope), mod::\u001b[0mModule, code::\u001b[0mString, filename::\u001b[0mString) at loading.jl:1116\n",
       " softscope_include_string(m::\u001b[0mModule, code::\u001b[0mString, filename::\u001b[0mString) at SoftGlobalScope.jl:65\n",
       " execute_request(socket::\u001b[0mZMQ.Socket, msg::\u001b[0mIJulia.Msg) at execute_request.jl:67\n",
       " #invokelatest#2 at essentials.jl:708 [inlined]\n",
       " invokelatest at essentials.jl:706 [inlined]\n",
       " eventloop(socket::\u001b[0mZMQ.Socket) at eventloop.jl:8\n",
       " (::IJulia.var\"#15#18\")() at task.jl:417"
      ]
     },
     "execution_count": 40,
     "metadata": {},
     "output_type": "execute_result"
    }
   ],
   "source": [
    "try\n",
    "    sqrt(-1)\n",
    "catch e\n",
    "    stacktrace(catch_backtrace())\n",
    "end"
   ]
  },
  {
   "cell_type": "markdown",
   "id": "b93de521",
   "metadata": {},
   "source": [
    "# *******___________*******"
   ]
  }
 ],
 "metadata": {
  "kernelspec": {
   "display_name": "Julia 1.6.7",
   "language": "julia",
   "name": "julia-1.6"
  },
  "language_info": {
   "file_extension": ".jl",
   "mimetype": "application/julia",
   "name": "julia",
   "version": "1.6.7"
  }
 },
 "nbformat": 4,
 "nbformat_minor": 5
}
